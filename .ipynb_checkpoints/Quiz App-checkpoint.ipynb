{
 "cells": [
  {
   "cell_type": "code",
   "execution_count": 2,
   "id": "0167b7dc",
   "metadata": {},
   "outputs": [
    {
     "name": "stdout",
     "output_type": "stream",
     "text": [
      "Welcome to the quiz\n",
      "Do you want to play the quiz : (yes/no)no\n"
     ]
    }
   ],
   "source": [
    "print(\"Welcome to the quiz\")\n",
    "playing=input(\"Do you want to play the quiz : (yes/no)\")\n",
    "score =0\n",
    "if playing.lower() != \"yes\":\n",
    "    quit()\n",
    "else:\n",
    "    print(\"Here we go :)\")\n",
    "    q_1=input(\"What is the full form of CPU ? \")\n",
    "    if q_1.lower()=='central processing unit':\n",
    "        score=score+1\n",
    "        print(\"vow!Thats correct\")\n",
    "    else:\n",
    "        print(\"Sorry its wrong\")\n",
    "    q_2=input(\"How much bit is each byte?\")\n",
    "    if q_2.lower()=='eight':\n",
    "        score=score+1\n",
    "        print(\"vow!Thats correct\")\n",
    "    else:\n",
    "        print(\"Sorry its wrong\")\n",
    "    q_3=input(\"Which computer program converts assembly language to machine language\")\n",
    "    if q_3.lower()=='assembler':\n",
    "        score=score+1\n",
    "        print(\"vow!Thats correct\")\n",
    "    else:\n",
    "        print(\"Sorry its wrong\")\n",
    "    q_4=input(\"Moving processes from the main memory to disk is called\")\n",
    "    if q_4.lower()=='swapping':\n",
    "        score=score+1\n",
    "        print(\"vow!Thats correct\")\n",
    "    else:\n",
    "        print(\"Sorry its wrong\")\n",
    "    q_5=input(\"What does the letter 'S' stand for in the Web terminology 'HTTPS'\")\n",
    "    if q_5.lower()=='secure':\n",
    "        score=score+1\n",
    "        print(\"vow!Thats correct\")\n",
    "    else:\n",
    "        print(\"Sorry its wrong\")\n",
    "    print(f\"You have got a total of {score} questions right\")"
   ]
  },
  {
   "cell_type": "code",
   "execution_count": null,
   "id": "b5eb2241",
   "metadata": {},
   "outputs": [],
   "source": []
  }
 ],
 "metadata": {
  "kernelspec": {
   "display_name": "Python 3",
   "language": "python",
   "name": "python3"
  },
  "language_info": {
   "codemirror_mode": {
    "name": "ipython",
    "version": 3
   },
   "file_extension": ".py",
   "mimetype": "text/x-python",
   "name": "python",
   "nbconvert_exporter": "python",
   "pygments_lexer": "ipython3",
   "version": "3.8.8"
  }
 },
 "nbformat": 4,
 "nbformat_minor": 5
}
